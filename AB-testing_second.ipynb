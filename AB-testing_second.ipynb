{
 "cells": [
  {
   "cell_type": "code",
   "execution_count": 48,
   "metadata": {},
   "outputs": [],
   "source": [
    "import pandas as pd\n",
    "import scipy.stats as ss\n",
    "from scipy.stats import shapiro\n",
    "import seaborn as sns\n",
    "import numpy as np\n",
    "import matplotlib.pyplot as plt\n",
    "from scipy.stats import bootstrap"
   ]
  },
  {
   "cell_type": "code",
   "execution_count": 2,
   "metadata": {},
   "outputs": [],
   "source": [
    "users = pd.read_csv('ab_users_data.csv') # считываем данные\n",
    "orders = pd.read_csv('ab_orders.csv')\n",
    "products = pd.read_csv('ab_products.csv')"
   ]
  },
  {
   "cell_type": "code",
   "execution_count": 3,
   "metadata": {},
   "outputs": [
    {
     "data": {
      "text/plain": [
       "0        {75\n",
       "0         22\n",
       "0         53\n",
       "0        84}\n",
       "1        {56\n",
       "        ... \n",
       "4121      {9\n",
       "4121      62\n",
       "4121     77}\n",
       "4122     {17\n",
       "4122     85}\n",
       "Name: product_id, Length: 13826, dtype: object"
      ]
     },
     "execution_count": 3,
     "metadata": {},
     "output_type": "execute_result"
    }
   ],
   "source": [
    "orders['product_id'] = orders.product_ids.str.split(',') # предобрабатываю данные для удобства работы\n",
    "orders = orders.explode('product_id')\n",
    "orders['product_id'].replace(['{', '}'], ['', ''])"
   ]
  },
  {
   "cell_type": "code",
   "execution_count": 4,
   "metadata": {},
   "outputs": [],
   "source": [
    "orders = orders.drop(columns = 'product_ids') # удаляю \"визуальный шум\""
   ]
  },
  {
   "cell_type": "code",
   "execution_count": 5,
   "metadata": {},
   "outputs": [],
   "source": [
    "orders['product_id'] = orders['product_id'].str.replace('{', '') # удаляю лишние символы из колонки\n",
    "orders['product_id'] = orders['product_id'].str.replace('}', '')"
   ]
  },
  {
   "cell_type": "code",
   "execution_count": 6,
   "metadata": {},
   "outputs": [],
   "source": [
    "orders['product_id'] = orders.product_id.astype(int) # перевожу данные в нужный формат для мерджа"
   ]
  },
  {
   "cell_type": "code",
   "execution_count": 7,
   "metadata": {},
   "outputs": [],
   "source": [
    "orders_prices = orders.merge(products, on = 'product_id') "
   ]
  },
  {
   "cell_type": "code",
   "execution_count": 8,
   "metadata": {},
   "outputs": [],
   "source": [
    "order_price = orders_prices.groupby('order_id').agg({'price':'sum'}).reset_index() # считаю сумму каждого заказа"
   ]
  },
  {
   "cell_type": "code",
   "execution_count": 9,
   "metadata": {},
   "outputs": [],
   "source": [
    "working_df = users.merge(order_price, on = 'order_id') # объединяю получившиеся данные для удобства работы"
   ]
  },
  {
   "cell_type": "code",
   "execution_count": 10,
   "metadata": {},
   "outputs": [],
   "source": [
    "# удаляю отмененные заказы, так как буду анализировать метрики, связанные с деньгами\n",
    "# а отмененные заказы денег не приносят\n",
    "\n",
    "working_df = working_df.drop_duplicates(subset = 'order_id', keep = False) "
   ]
  },
  {
   "cell_type": "code",
   "execution_count": 11,
   "metadata": {},
   "outputs": [
    {
     "data": {
      "text/html": [
       "<div>\n",
       "<style scoped>\n",
       "    .dataframe tbody tr th:only-of-type {\n",
       "        vertical-align: middle;\n",
       "    }\n",
       "\n",
       "    .dataframe tbody tr th {\n",
       "        vertical-align: top;\n",
       "    }\n",
       "\n",
       "    .dataframe thead th {\n",
       "        text-align: right;\n",
       "    }\n",
       "</style>\n",
       "<table border=\"1\" class=\"dataframe\">\n",
       "  <thead>\n",
       "    <tr style=\"text-align: right;\">\n",
       "      <th></th>\n",
       "      <th>user_id</th>\n",
       "      <th>order_id</th>\n",
       "      <th>action</th>\n",
       "      <th>time</th>\n",
       "      <th>date</th>\n",
       "      <th>group</th>\n",
       "      <th>price</th>\n",
       "    </tr>\n",
       "  </thead>\n",
       "  <tbody>\n",
       "    <tr>\n",
       "      <th>0</th>\n",
       "      <td>964</td>\n",
       "      <td>1255</td>\n",
       "      <td>create_order</td>\n",
       "      <td>2022-08-26 00:00:19.000000</td>\n",
       "      <td>2022-08-26</td>\n",
       "      <td>0</td>\n",
       "      <td>408.7</td>\n",
       "    </tr>\n",
       "    <tr>\n",
       "      <th>1</th>\n",
       "      <td>965</td>\n",
       "      <td>1256</td>\n",
       "      <td>create_order</td>\n",
       "      <td>2022-08-26 00:02:21.000000</td>\n",
       "      <td>2022-08-26</td>\n",
       "      <td>1</td>\n",
       "      <td>250.5</td>\n",
       "    </tr>\n",
       "    <tr>\n",
       "      <th>2</th>\n",
       "      <td>964</td>\n",
       "      <td>1257</td>\n",
       "      <td>create_order</td>\n",
       "      <td>2022-08-26 00:02:27.000000</td>\n",
       "      <td>2022-08-26</td>\n",
       "      <td>0</td>\n",
       "      <td>310.2</td>\n",
       "    </tr>\n",
       "    <tr>\n",
       "      <th>5</th>\n",
       "      <td>967</td>\n",
       "      <td>1259</td>\n",
       "      <td>create_order</td>\n",
       "      <td>2022-08-26 00:03:37.000000</td>\n",
       "      <td>2022-08-26</td>\n",
       "      <td>1</td>\n",
       "      <td>228.0</td>\n",
       "    </tr>\n",
       "    <tr>\n",
       "      <th>6</th>\n",
       "      <td>968</td>\n",
       "      <td>1261</td>\n",
       "      <td>create_order</td>\n",
       "      <td>2022-08-26 00:05:35.000000</td>\n",
       "      <td>2022-08-26</td>\n",
       "      <td>0</td>\n",
       "      <td>430.7</td>\n",
       "    </tr>\n",
       "  </tbody>\n",
       "</table>\n",
       "</div>"
      ],
      "text/plain": [
       "   user_id  order_id        action                        time        date  \\\n",
       "0      964      1255  create_order  2022-08-26 00:00:19.000000  2022-08-26   \n",
       "1      965      1256  create_order  2022-08-26 00:02:21.000000  2022-08-26   \n",
       "2      964      1257  create_order  2022-08-26 00:02:27.000000  2022-08-26   \n",
       "5      967      1259  create_order  2022-08-26 00:03:37.000000  2022-08-26   \n",
       "6      968      1261  create_order  2022-08-26 00:05:35.000000  2022-08-26   \n",
       "\n",
       "   group  price  \n",
       "0      0  408.7  \n",
       "1      1  250.5  \n",
       "2      0  310.2  \n",
       "5      1  228.0  \n",
       "6      0  430.7  "
      ]
     },
     "execution_count": 11,
     "metadata": {},
     "output_type": "execute_result"
    }
   ],
   "source": [
    "working_df.head()"
   ]
  },
  {
   "cell_type": "code",
   "execution_count": 12,
   "metadata": {},
   "outputs": [],
   "source": [
    "test_group = working_df.query('group == 1') # делю всех пользователей на два массива по группам"
   ]
  },
  {
   "cell_type": "code",
   "execution_count": 13,
   "metadata": {},
   "outputs": [
    {
     "name": "stderr",
     "output_type": "stream",
     "text": [
      "/opt/tljh/user/lib/python3.7/site-packages/ipykernel_launcher.py:1: SettingWithCopyWarning: \n",
      "A value is trying to be set on a copy of a slice from a DataFrame.\n",
      "Try using .loc[row_indexer,col_indexer] = value instead\n",
      "\n",
      "See the caveats in the documentation: https://pandas.pydata.org/pandas-docs/stable/user_guide/indexing.html#returning-a-view-versus-a-copy\n",
      "  \"\"\"Entry point for launching an IPython kernel.\n"
     ]
    }
   ],
   "source": [
    "test_group['log_price'] = np.log(test_group.price) # привожу распределение сумм заказа к ± нормальному"
   ]
  },
  {
   "cell_type": "code",
   "execution_count": 14,
   "metadata": {},
   "outputs": [],
   "source": [
    "control_group = working_df.query('group == 0') # делю всех пользователей на два массива по группам"
   ]
  },
  {
   "cell_type": "code",
   "execution_count": 15,
   "metadata": {},
   "outputs": [
    {
     "name": "stderr",
     "output_type": "stream",
     "text": [
      "/opt/tljh/user/lib/python3.7/site-packages/ipykernel_launcher.py:1: SettingWithCopyWarning: \n",
      "A value is trying to be set on a copy of a slice from a DataFrame.\n",
      "Try using .loc[row_indexer,col_indexer] = value instead\n",
      "\n",
      "See the caveats in the documentation: https://pandas.pydata.org/pandas-docs/stable/user_guide/indexing.html#returning-a-view-versus-a-copy\n",
      "  \"\"\"Entry point for launching an IPython kernel.\n"
     ]
    }
   ],
   "source": [
    "control_group['log_price'] = np.log(control_group.price) # привожу распределение сумм заказа к ± нормальному"
   ]
  },
  {
   "cell_type": "code",
   "execution_count": 16,
   "metadata": {},
   "outputs": [
    {
     "data": {
      "text/plain": [
       "<seaborn.axisgrid.FacetGrid at 0x7f5b7e774d68>"
      ]
     },
     "execution_count": 16,
     "metadata": {},
     "output_type": "execute_result"
    },
    {
     "data": {
      "image/png": "[encoded data removed]",
      "text/plain": [
       "<Figure size 360x360 with 1 Axes>"
      ]
     },
     "metadata": {
      "needs_background": "light"
     },
     "output_type": "display_data"
    },
    {
     "data": {
      "image/png": "[encoded data removed]",
      "text/plain": [
       "<Figure size 360x360 with 1 Axes>"
      ]
     },
     "metadata": {
      "needs_background": "light"
     },
     "output_type": "display_data"
    }
   ],
   "source": [
    "sns.displot(test_group.log_price, kde = True)\n",
    "sns.displot(control_group.log_price, kde = True)"
   ]
  },
  {
   "cell_type": "code",
   "execution_count": 17,
   "metadata": {},
   "outputs": [
    {
     "data": {
      "text/plain": [
       "0.7280893936376626"
      ]
     },
     "execution_count": 17,
     "metadata": {},
     "output_type": "execute_result"
    }
   ],
   "source": [
    "test_group.log_price.std() # считаю стандартное отклонение массива, чтобы сделать выводы о дисперсии"
   ]
  },
  {
   "cell_type": "code",
   "execution_count": 18,
   "metadata": {},
   "outputs": [
    {
     "data": {
      "text/plain": [
       "0.7168363952343663"
      ]
     },
     "execution_count": 18,
     "metadata": {},
     "output_type": "execute_result"
    }
   ],
   "source": [
    "control_group.log_price.std() # считаю стандартное отклонение массива, чтобы сделать выводы о дисперсии"
   ]
  },
  {
   "cell_type": "markdown",
   "metadata": {},
   "source": [
    "В данных удовлетворяются параметрические условия, так как по графикам можем заметить, что распределения лог-нормальны, имеют приблизительно равные дисперсии и выборки взяты из двух независимых ГС (из разных групп наблюдения за пользователями)\n",
    "\n",
    "Воспользуемся парным t-тестом, в котором:\n",
    "\n",
    "- $H_0$: суммы заказов в разных группах не отличаются \n",
    "- $H_1$: суммы заказов в разных группах значимо отличаются "
   ]
  },
  {
   "cell_type": "code",
   "execution_count": 19,
   "metadata": {},
   "outputs": [
    {
     "data": {
      "text/plain": [
       "Ttest_indResult(statistic=-1.7522118532194424, pvalue=0.07981582868828002)"
      ]
     },
     "execution_count": 19,
     "metadata": {},
     "output_type": "execute_result"
    }
   ],
   "source": [
    "ss.ttest_ind(test_group.log_price, control_group.log_price) # p-value > 0.05, а значит у нас нет оснований отклонить нулевую гипотезу"
   ]
  },
  {
   "cell_type": "markdown",
   "metadata": {},
   "source": [
    "В проведенном тесте метрика сумм заказов в разных группах не показала значимых различий, а значит, что алгоритм не влияет на сумму заказа. Посмотрим, на какие еще метрики он может оказывать влияние"
   ]
  },
  {
   "cell_type": "code",
   "execution_count": 20,
   "metadata": {},
   "outputs": [],
   "source": [
    "# считаю количество заказов по дням для каждой из групп\n",
    "\n",
    "orders_by_day = working_df.groupby(['date', 'group']).agg({'order_id':'count'}).reset_index()"
   ]
  },
  {
   "cell_type": "code",
   "execution_count": 21,
   "metadata": {},
   "outputs": [],
   "source": [
    "orders_control = orders_by_day.query('group == 0').reset_index() # делю всех пользователей на два массива по группам"
   ]
  },
  {
   "cell_type": "code",
   "execution_count": 22,
   "metadata": {},
   "outputs": [],
   "source": [
    "orders_test = orders_by_day.query('group == 1').reset_index() # делю всех пользователей на два массива по группам"
   ]
  },
  {
   "cell_type": "markdown",
   "metadata": {},
   "source": [
    "В данных не удовлетворяются параметрические условия\n",
    "\n",
    "Воспользуемся U-тест Манна-Уитни, в котором:\n",
    "\n",
    "- $H_0$: количество заказов в разных группах не отличаются \n",
    "- $H_1$: количество заказов в разных группах значимо отличаются "
   ]
  },
  {
   "cell_type": "code",
   "execution_count": 23,
   "metadata": {},
   "outputs": [
    {
     "data": {
      "text/plain": [
       "MannwhitneyuResult(statistic=162.0, pvalue=0.00352648665061584)"
      ]
     },
     "execution_count": 23,
     "metadata": {},
     "output_type": "execute_result"
    }
   ],
   "source": [
    "ss.mannwhitneyu(orders_test.order_id, orders_control.order_id) # p-value < 0,05 позволяет нам отвергнуть нулевую гипотезу"
   ]
  },
  {
   "cell_type": "code",
   "execution_count": 24,
   "metadata": {},
   "outputs": [],
   "source": [
    "orders_diff = orders_test.order_id - orders_control.order_id"
   ]
  },
  {
   "cell_type": "code",
   "execution_count": 25,
   "metadata": {},
   "outputs": [
    {
     "data": {
      "text/plain": [
       "0      60\n",
       "1      81\n",
       "2     111\n",
       "3     114\n",
       "4      55\n",
       "5      55\n",
       "6      56\n",
       "7      62\n",
       "8      78\n",
       "9      54\n",
       "10     32\n",
       "11     11\n",
       "12     40\n",
       "13     46\n",
       "Name: order_id, dtype: int64"
      ]
     },
     "execution_count": 25,
     "metadata": {},
     "output_type": "execute_result"
    }
   ],
   "source": [
    "orders_diff # видим, что в тестовой группе количество заказов всегда больше, чем в контрольной"
   ]
  },
  {
   "cell_type": "markdown",
   "metadata": {},
   "source": [
    "Проведя U-тест Манна-Уитни, мы получили значимые отличия в количествах заказов по дням в двух различных группах\n",
    "\n",
    "Так как в тестовой группе заказов всегда больше, чем в контрольной, можно утверждать, что введение нового алгоритма значимо влияет на увеличение количества заказов.\n"
   ]
  },
  {
   "cell_type": "markdown",
   "metadata": {},
   "source": [
    "После прочтения статьи от Авито на Хабре немного перестал \"доверять\" U - тесту и решил провести еще и bootstrap анализ, чтобы удостовериться в правильности своего решения"
   ]
  },
  {
   "cell_type": "code",
   "execution_count": 102,
   "metadata": {},
   "outputs": [],
   "source": [
    "# формирую датафрейм для контрольной группы\n",
    "\n",
    "control_df = orders_by_day.query(\"group == 0\")"
   ]
  },
  {
   "cell_type": "code",
   "execution_count": 103,
   "metadata": {},
   "outputs": [],
   "source": [
    "# формирую датафрейм для тестовой группы\n",
    "\n",
    "test_df = orders_by_day.query(\"group == 1\")"
   ]
  },
  {
   "cell_type": "markdown",
   "metadata": {},
   "source": [
    "Рассчитаем доверительный интервал для разницы медиан в тестовой и контрольной группах:"
   ]
  },
  {
   "cell_type": "code",
   "execution_count": 112,
   "metadata": {},
   "outputs": [],
   "source": [
    "median_diff = []\n",
    "\n",
    "for i in range(10000):\n",
    "    sample_data_control = control_df.sample(frac=1, replace=True)\n",
    "    sample_median_control = sample_data_control.order_id.median()\n",
    "    \n",
    "    \n",
    "    sample_data_test = test_df.sample(frac=1, replace=True)\n",
    "    sample_median_test = sample_data_test.order_id.median()\n",
    "    \n",
    "    sample_median_diff = sample_median_test - sample_median_control\n",
    "    median_diff.append(sample_median_diff)"
   ]
  },
  {
   "cell_type": "code",
   "execution_count": 113,
   "metadata": {},
   "outputs": [
    {
     "data": {
      "text/plain": [
       "105.01249999999982"
      ]
     },
     "execution_count": 113,
     "metadata": {},
     "output_type": "execute_result"
    }
   ],
   "source": [
    "pd.Series(median_diff).quantile(0.975)"
   ]
  },
  {
   "cell_type": "code",
   "execution_count": 114,
   "metadata": {},
   "outputs": [
    {
     "data": {
      "text/plain": [
       "20.5"
      ]
     },
     "execution_count": 114,
     "metadata": {},
     "output_type": "execute_result"
    }
   ],
   "source": [
    "pd.Series(median_diff).quantile(0.025)"
   ]
  },
  {
   "cell_type": "markdown",
   "metadata": {},
   "source": [
    "Что и требовалось доказать, доверительный интервал для разности медиан не включает в себя 0 и положителен, а значит, что медианы отличаются статистически значимо и эти различия положительны."
   ]
  },
  {
   "cell_type": "markdown",
   "metadata": {},
   "source": [
    "## Вывод:\n",
    "\n",
    "Считаю, что алгоритм следует все-таки внедрить в работу приложения, так как положительная динамика метрики все же есть, хоть и дополнительной выручки алгоритм не приносит (доказано при проведении парного t-теста средней суммы заказа). С помощью алгоритма можно добиться увеличения количества заказов, повысить средний чек путем каких-либо дополнительных алгоритмов или промокодов, а за счет этого вырастет и выручка. В общем, напрямую на выручку бизнеса алгоритм не выполняет, но позволяет значительно продвинуться к успеху."
   ]
  }
 ],
 "metadata": {
  "kernelspec": {
   "display_name": "Python 3",
   "language": "python",
   "name": "python3"
  },
  "language_info": {
   "codemirror_mode": {
    "name": "ipython",
    "version": 3
   },
   "file_extension": ".py",
   "mimetype": "text/x-python",
   "name": "python",
   "nbconvert_exporter": "python",
   "pygments_lexer": "ipython3",
   "version": "3.7.3"
  }
 },
 "nbformat": 4,
 "nbformat_minor": 4
}
